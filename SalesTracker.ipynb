{
 "cells": [
  {
   "cell_type": "code",
   "execution_count": 4,
   "id": "336a91d8-804d-4a3e-a7f4-9707be50aa85",
   "metadata": {},
   "outputs": [
    {
     "name": "stdout",
     "output_type": "stream",
     "text": [
      "--- Sales Summary ---\n",
      "Total Sales: $1237.00\n",
      "Average Sale: $154.62\n",
      "Top-Selling Product: Jeans\n",
      "\n",
      "Cleaned data saved to sales_cleaned.csv\n"
     ]
    }
   ],
   "source": [
    "import pandas as pd\n",
    "\n",
    "# Load CSV\n",
    "df = pd.read_csv(\"sales.csv\")\n",
    "\n",
    "# Drop missing values\n",
    "df_clean = df.dropna()\n",
    "\n",
    "# Calculate stats\n",
    "total_sales = df_clean[\"Sales\"].sum()\n",
    "average_sales = df_clean[\"Sales\"].mean()\n",
    "top_product = df_clean.groupby(\"Product\")[\"Sales\"].sum().idxmax()\n",
    "\n",
    "# Print summary\n",
    "print(\"--- Sales Summary ---\")\n",
    "print(f\"Total Sales: ${total_sales:.2f}\")\n",
    "print(f\"Average Sale: ${average_sales:.2f}\")\n",
    "print(f\"Top-Selling Product: {top_product}\")\n",
    "\n",
    "# Save cleaned data\n",
    "df_clean.to_csv(\"sales_cleaned.csv\", index=False)\n",
    "print(\"\\nCleaned data saved to sales_cleaned.csv\")"
   ]
  },
  {
   "cell_type": "code",
   "execution_count": null,
   "id": "ff5adca4-bea8-499a-befe-e428fee5b6ae",
   "metadata": {
    "jupyter": {
     "source_hidden": true
    }
   },
   "outputs": [],
   "source": []
  }
 ],
 "metadata": {
  "kernelspec": {
   "display_name": "Python 3 (ipykernel)",
   "language": "python",
   "name": "python3"
  },
  "language_info": {
   "codemirror_mode": {
    "name": "ipython",
    "version": 3
   },
   "file_extension": ".py",
   "mimetype": "text/x-python",
   "name": "python",
   "nbconvert_exporter": "python",
   "pygments_lexer": "ipython3",
   "version": "3.13.7"
  }
 },
 "nbformat": 4,
 "nbformat_minor": 5
}
