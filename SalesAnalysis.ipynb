{
 "cells": [
  {
   "cell_type": "markdown",
   "id": "2605fde3-22f2-4e8d-a3e0-fcd65d84f91d",
   "metadata": {},
   "source": [
    "# Sales Tracker Project\n",
    "\n",
    "This notebook demonstrates how raw sales data can be cleaned, analyzed, and visualized.  \n",
    "It began as a simple coding exercise but was expanded into a project showcasing skills in data cleaning, statistics, and visualization."
   ]
  },
  {
   "cell_type": "code",
   "execution_count": 14,
   "id": "882bde40-4ef5-42bf-8947-7e55c7b8052f",
   "metadata": {},
   "outputs": [],
   "source": [
    "import pandas as pd\n",
    "import matplotlib.pyplot as plt"
   ]
  },
  {
   "cell_type": "markdown",
   "id": "d070dbb4-1cb9-4ee1-97e8-42a1d74b8131",
   "metadata": {},
   "source": [
    "## Load Dataset\n",
    "We start by importing the raw sales dataset (`sales.csv`)."
   ]
  },
  {
   "cell_type": "code",
   "execution_count": 16,
   "id": "1ea2653c-56fc-426f-a1ac-a02cfa431330",
   "metadata": {},
   "outputs": [
    {
     "data": {
      "text/html": [
       "<div>\n",
       "<style scoped>\n",
       "    .dataframe tbody tr th:only-of-type {\n",
       "        vertical-align: middle;\n",
       "    }\n",
       "\n",
       "    .dataframe tbody tr th {\n",
       "        vertical-align: top;\n",
       "    }\n",
       "\n",
       "    .dataframe thead th {\n",
       "        text-align: right;\n",
       "    }\n",
       "</style>\n",
       "<table border=\"1\" class=\"dataframe\">\n",
       "  <thead>\n",
       "    <tr style=\"text-align: right;\">\n",
       "      <th></th>\n",
       "      <th>ID</th>\n",
       "      <th>Product</th>\n",
       "      <th>Sales</th>\n",
       "    </tr>\n",
       "  </thead>\n",
       "  <tbody>\n",
       "    <tr>\n",
       "      <th>0</th>\n",
       "      <td>1</td>\n",
       "      <td>Shirt</td>\n",
       "      <td>120.50</td>\n",
       "    </tr>\n",
       "    <tr>\n",
       "      <th>1</th>\n",
       "      <td>2</td>\n",
       "      <td>Jeans</td>\n",
       "      <td>250.00</td>\n",
       "    </tr>\n",
       "    <tr>\n",
       "      <th>2</th>\n",
       "      <td>3</td>\n",
       "      <td>Shoes</td>\n",
       "      <td>NaN</td>\n",
       "    </tr>\n",
       "    <tr>\n",
       "      <th>3</th>\n",
       "      <td>4</td>\n",
       "      <td>Hat</td>\n",
       "      <td>75.25</td>\n",
       "    </tr>\n",
       "    <tr>\n",
       "      <th>4</th>\n",
       "      <td>5</td>\n",
       "      <td>Shirt</td>\n",
       "      <td>130.00</td>\n",
       "    </tr>\n",
       "  </tbody>\n",
       "</table>\n",
       "</div>"
      ],
      "text/plain": [
       "   ID Product   Sales\n",
       "0   1   Shirt  120.50\n",
       "1   2   Jeans  250.00\n",
       "2   3   Shoes     NaN\n",
       "3   4     Hat   75.25\n",
       "4   5   Shirt  130.00"
      ]
     },
     "execution_count": 16,
     "metadata": {},
     "output_type": "execute_result"
    }
   ],
   "source": [
    "df = pd.read_csv(\"sales.csv\")\n",
    "df.head()"
   ]
  },
  {
   "cell_type": "markdown",
   "id": "590320c4-b4e9-4c9c-a5c5-7a5222ee1a13",
   "metadata": {},
   "source": [
    "## Data Cleaning\n",
    "- Removed rows with missing or invalid sales values (e.g., `NaN`).  \n",
    "- Converted the `Sales` column to numeric format for analysis."
   ]
  },
  {
   "cell_type": "code",
   "execution_count": 18,
   "id": "c9c6ce02-c73b-4998-ae41-ff3f1333703e",
   "metadata": {},
   "outputs": [
    {
     "data": {
      "text/html": [
       "<div>\n",
       "<style scoped>\n",
       "    .dataframe tbody tr th:only-of-type {\n",
       "        vertical-align: middle;\n",
       "    }\n",
       "\n",
       "    .dataframe tbody tr th {\n",
       "        vertical-align: top;\n",
       "    }\n",
       "\n",
       "    .dataframe thead th {\n",
       "        text-align: right;\n",
       "    }\n",
       "</style>\n",
       "<table border=\"1\" class=\"dataframe\">\n",
       "  <thead>\n",
       "    <tr style=\"text-align: right;\">\n",
       "      <th></th>\n",
       "      <th>ID</th>\n",
       "      <th>Product</th>\n",
       "      <th>Sales</th>\n",
       "    </tr>\n",
       "  </thead>\n",
       "  <tbody>\n",
       "    <tr>\n",
       "      <th>0</th>\n",
       "      <td>1</td>\n",
       "      <td>Shirt</td>\n",
       "      <td>120.50</td>\n",
       "    </tr>\n",
       "    <tr>\n",
       "      <th>1</th>\n",
       "      <td>2</td>\n",
       "      <td>Jeans</td>\n",
       "      <td>250.00</td>\n",
       "    </tr>\n",
       "    <tr>\n",
       "      <th>3</th>\n",
       "      <td>4</td>\n",
       "      <td>Hat</td>\n",
       "      <td>75.25</td>\n",
       "    </tr>\n",
       "    <tr>\n",
       "      <th>4</th>\n",
       "      <td>5</td>\n",
       "      <td>Shirt</td>\n",
       "      <td>130.00</td>\n",
       "    </tr>\n",
       "    <tr>\n",
       "      <th>5</th>\n",
       "      <td>6</td>\n",
       "      <td>Shoes</td>\n",
       "      <td>200.75</td>\n",
       "    </tr>\n",
       "  </tbody>\n",
       "</table>\n",
       "</div>"
      ],
      "text/plain": [
       "   ID Product   Sales\n",
       "0   1   Shirt  120.50\n",
       "1   2   Jeans  250.00\n",
       "3   4     Hat   75.25\n",
       "4   5   Shirt  130.00\n",
       "5   6   Shoes  200.75"
      ]
     },
     "execution_count": 18,
     "metadata": {},
     "output_type": "execute_result"
    }
   ],
   "source": [
    "df_clean = df.dropna().copy()\n",
    "df_clean.loc[:, \"Sales\"] = pd.to_numeric(df_clean[\"Sales\"], errors=\"coerce\")\n",
    "df_clean.head()"
   ]
  },
  {
   "cell_type": "markdown",
   "id": "715a5941-f9c6-4384-a6c4-fcbe295ecf4a",
   "metadata": {},
   "source": [
    "## Basic Statistics\n",
    "We compute:\n",
    "- Total Sales  \n",
    "- Average Sale  \n",
    "- Top-Selling Product"
   ]
  },
  {
   "cell_type": "code",
   "execution_count": 20,
   "id": "eca0baf8-efc1-4197-a38d-963757c0c43b",
   "metadata": {},
   "outputs": [
    {
     "name": "stdout",
     "output_type": "stream",
     "text": [
      "Total Sales: $ 1237.0\n",
      "Average Sale: $ 154.62\n",
      "Top-Selling Product: Jeans\n"
     ]
    }
   ],
   "source": [
    "total_sales = df_clean[\"Sales\"].sum()\n",
    "average_sales = df_clean[\"Sales\"].mean()\n",
    "top_product = df_clean.groupby(\"Product\")[\"Sales\"].sum().idxmax()\n",
    "\n",
    "print(\"Total Sales: $\", round(total_sales, 2))\n",
    "print(\"Average Sale: $\", round(average_sales, 2))\n",
    "print(\"Top-Selling Product:\", top_product)"
   ]
  },
  {
   "cell_type": "markdown",
   "id": "d07932a1-1d37-44f9-b5cb-3710d5c1d0b3",
   "metadata": {},
   "source": [
    "## Sales Value Distribution\n",
    "\n",
    "This histogram shows the distribution of sales values across the dataset.  \n",
    "It provides insight into the spread and frequency of transaction sizes.  \n",
    "\n",
    "For example:\n",
    "- Lower bars indicate less common sales values.\n",
    "- Taller bars highlight the ranges where most transactions fall.\n"
   ]
  },
  {
   "cell_type": "code",
   "execution_count": 25,
   "id": "2733a20e-97f5-402c-a053-9e1e225a94c5",
   "metadata": {},
   "outputs": [
    {
     "data": {
      "image/png": "[encoded data removed]",
      "text/plain": [
       "<Figure size 600x400 with 1 Axes>"
      ]
     },
     "metadata": {},
     "output_type": "display_data"
    }
   ],
   "source": [
    "# Histogram of individual sales values\n",
    "plt.figure(figsize=(6,4))\n",
    "plt.hist(df_clean[\"Sales\"], bins=5, color=\"lightgreen\", edgecolor=\"black\")\n",
    "plt.title(\"Distribution of Sales Values\")\n",
    "plt.xlabel(\"Sale Amount ($)\")\n",
    "plt.ylabel(\"Frequency\")\n",
    "plt.tight_layout()\n",
    "plt.show()"
   ]
  },
  {
   "cell_type": "markdown",
   "id": "039091bc-d998-46b9-a64f-3d5cc9945606",
   "metadata": {},
   "source": [
    "## Visualization\n",
    "This bar chart shows total sales by product, making it easy to spot which category performs best."
   ]
  },
  {
   "cell_type": "code",
   "execution_count": 22,
   "id": "dab195c8-fa8d-45b2-af28-1c50801093ab",
   "metadata": {},
   "outputs": [
    {
     "data": {
      "image/png": "[encoded data removed]",
      "text/plain": [
       "<Figure size 600x400 with 1 Axes>"
      ]
     },
     "metadata": {},
     "output_type": "display_data"
    }
   ],
   "source": [
    "product_sales = df_clean.groupby(\"Product\")[\"Sales\"].sum()\n",
    "product_sales.plot(kind=\"bar\", title=\"Sales by Product\", figsize=(6,4))\n",
    "plt.ylabel(\"Total Sales ($)\")\n",
    "plt.show()"
   ]
  },
  {
   "cell_type": "markdown",
   "id": "f5a13a76-0886-47bd-8197-cd95e7208d59",
   "metadata": {},
   "source": [
    "## Reflection\n",
    "This project demonstrates:\n",
    "- Programming skills: cleaning and analyzing datasets with Python/pandas.  \n",
    "- Analytical skills: extracting insights like averages and top products.  \n",
    "- Visualization skills: presenting results in an intuitive chart.  \n",
    "\n",
    "It shows how I can take a classroom-style project and turn it into something closer to real-world analysis, making it relevant for internships in data analytics, business analysis, or tech consulting.\n"
   ]
  }
 ],
 "metadata": {
  "kernelspec": {
   "display_name": "Python 3 (ipykernel)",
   "language": "python",
   "name": "python3"
  },
  "language_info": {
   "codemirror_mode": {
    "name": "ipython",
    "version": 3
   },
   "file_extension": ".py",
   "mimetype": "text/x-python",
   "name": "python",
   "nbconvert_exporter": "python",
   "pygments_lexer": "ipython3",
   "version": "3.13.7"
  }
 },
 "nbformat": 4,
 "nbformat_minor": 5
}
